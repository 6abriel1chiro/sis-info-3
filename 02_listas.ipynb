{
 "cells": [
  {
   "cell_type": "markdown",
   "metadata": {},
   "source": [
    "# Listas"
   ]
  },
  {
   "cell_type": "code",
   "execution_count": 24,
   "metadata": {},
   "outputs": [],
   "source": [
    "#Habilitar intellisense\n",
    "%config IPCompleter.greedy = True"
   ]
  },
  {
   "cell_type": "code",
   "execution_count": 1,
   "metadata": {},
   "outputs": [
    {
     "name": "stdout",
     "output_type": "stream",
     "text": [
      "0\n",
      "False\n",
      "['rojo', 'amarillo', 'verde']\n",
      "verde verde\n",
      "rojo\n",
      "2\n",
      "4\n",
      "3\n"
     ]
    }
   ],
   "source": [
    "#Secuencia de item\n",
    "print(len([]))\n",
    "print(bool([]))  # False\n",
    "colores_bandera = ['rojo', \"amarillo\", 'verde'] # colores_bandera[2] = colores_bandera[-1]\n",
    "print(colores_bandera)\n",
    "print(colores_bandera[2], colores_bandera[-2 // 2])\n",
    "print(colores_bandera[-3])\n",
    "matriz = [ [1,2] , [3,4] ]\n",
    "print(matriz[0][1])\n",
    "print(matriz[1][1])\n",
    "print(matriz[-1][-2])"
   ]
  },
  {
   "cell_type": "code",
   "execution_count": 2,
   "metadata": {},
   "outputs": [
    {
     "name": "stdout",
     "output_type": "stream",
     "text": [
      "['toyota', 'ford', 'fiat']\n",
      "['toyota', 'ford', 'fiat', 'ferrari']\n",
      "['audi', 'toyota', 'ford', 'fiat', 'ferrari']\n",
      "['audi', 'toyota', 'ford', 'fiat', 'mazda']\n",
      "['audi', 'toyota', 'ford', 'fiat']\n",
      "['audi', 'toyota', 'fiat']\n",
      "['toyota', 'fiat']\n",
      "1\n",
      "[]\n",
      "['toyota', 'fiat']\n"
     ]
    }
   ],
   "source": [
    "#CRUD\n",
    "marcas_automoviles = ['toyota','ford','fiat']\n",
    "\n",
    "print(marcas_automoviles)\n",
    "marcas_automoviles.append('ferrari')\n",
    "print(marcas_automoviles)\n",
    "marcas_automoviles.insert(0,'audi')\n",
    "print(marcas_automoviles)\n",
    "\n",
    "marcas_automoviles[4] = 'mazda'\n",
    "print(marcas_automoviles)\n",
    "\n",
    "del marcas_automoviles[4]\n",
    "print(marcas_automoviles)\n",
    "marcas_automoviles.remove('ford')\n",
    "print(marcas_automoviles)\n",
    "marcas_automoviles.pop(0)\n",
    "print(marcas_automoviles)\n",
    "print(marcas_automoviles.index('fiat'))\n",
    "copia_marcas = marcas_automoviles.copy()\n",
    "marcas_automoviles.clear()\n",
    "print(marcas_automoviles)\n",
    "print(copia_marcas)"
   ]
  },
  {
   "cell_type": "code",
   "execution_count": 27,
   "metadata": {},
   "outputs": [
    {
     "name": "stdout",
     "output_type": "stream",
     "text": [
      "['toyota', 'fiat', 'ford']\n"
     ]
    },
    {
     "ename": "ValueError",
     "evalue": "'foat' is not in list",
     "output_type": "error",
     "traceback": [
      "\u001b[1;31m---------------------------------------------------------------------------\u001b[0m",
      "\u001b[1;31mValueError\u001b[0m                                Traceback (most recent call last)",
      "\u001b[1;32m~\\AppData\\Local\\Temp/ipykernel_20164/3573037263.py\u001b[0m in \u001b[0;36m<module>\u001b[1;34m\u001b[0m\n\u001b[0;32m      3\u001b[0m \u001b[0mprint\u001b[0m\u001b[1;33m(\u001b[0m\u001b[0mmarcas_automoviles\u001b[0m\u001b[1;33m)\u001b[0m\u001b[1;33m\u001b[0m\u001b[1;33m\u001b[0m\u001b[0m\n\u001b[0;32m      4\u001b[0m \u001b[1;33m\u001b[0m\u001b[0m\n\u001b[1;32m----> 5\u001b[1;33m \u001b[0mmarcas_automoviles\u001b[0m\u001b[1;33m.\u001b[0m\u001b[0mindex\u001b[0m\u001b[1;33m(\u001b[0m\u001b[1;34m'foat'\u001b[0m\u001b[1;33m)\u001b[0m\u001b[1;33m\u001b[0m\u001b[1;33m\u001b[0m\u001b[0m\n\u001b[0m",
      "\u001b[1;31mValueError\u001b[0m: 'foat' is not in list"
     ]
    }
   ],
   "source": [
    "marcas_automoviles = ['toyota','ford','fiat', 'ford']\n",
    "marcas_automoviles.remove('ford')\n",
    "print(marcas_automoviles)\n",
    "\n",
    "marcas_automoviles.index('foat')"
   ]
  },
  {
   "cell_type": "code",
   "execution_count": 3,
   "metadata": {},
   "outputs": [
    {
     "name": "stdout",
     "output_type": "stream",
     "text": [
      "['fiat', 'ford', 'toyota']\n",
      "['toyota', 'ford', 'fiat']\n",
      "['fiat', 'ford', 'toyota']\n",
      "['toyota', 'ford', 'fiat']\n",
      "['fiat', 'ford', 'toyota']\n",
      "[<list_reverseiterator object at 0x00000204AC8BA910>]\n",
      "['toyota', 'ford', 'fiat']\n"
     ]
    }
   ],
   "source": [
    "#Ordenamiento\n",
    "marcas_automoviles = ['toyota','ford','fiat']\n",
    "print(sorted(marcas_automoviles))\n",
    "print(marcas_automoviles)\n",
    "marcas_automoviles.sort() #SHIFT+TAB dentro de los ()?\n",
    "print(marcas_automoviles)\n",
    "marcas_automoviles.reverse()\n",
    "print(marcas_automoviles)\n",
    "print(list(reversed(marcas_automoviles))) #[valores...] list()\n",
    "print([reversed(marcas_automoviles)]) #Lista con un puntero/referencia a un objeto\n",
    "print(marcas_automoviles)"
   ]
  },
  {
   "cell_type": "code",
   "execution_count": 4,
   "metadata": {},
   "outputs": [
    {
     "name": "stdout",
     "output_type": "stream",
     "text": [
      "\t toyota\n",
      "\t 6\n",
      "\t ford\n",
      "\t 4\n",
      "\t fiat\n",
      "\t 4\n",
      "Fin loop\n"
     ]
    }
   ],
   "source": [
    "#CUIDADO!: La identacion forma bloques de codigo\n",
    "#Un valor definido en una celda anterior aun esta disponible\n",
    "#marcas_automoviles.append('volkswagen')\n",
    "#for marca in marcas_automoviles {\n",
    "#    print(\"\\t\",  marca)\n",
    "#print(\"\\t\", len(marca))\n",
    "#}   \n",
    "for marca in marcas_automoviles:\n",
    "    pass\n",
    "    print(\"\\t\",  marca)\n",
    "    print(\"\\t\", len(marca))\n",
    "print(\"Fin loop\")\n",
    "\n",
    "# C#\n",
    "# if () {\n",
    "    \n",
    "# }\n",
    "\n",
    "#Python\n",
    "# if <condition>\n",
    "#     pass"
   ]
  },
  {
   "cell_type": "code",
   "execution_count": 5,
   "metadata": {},
   "outputs": [
    {
     "name": "stdout",
     "output_type": "stream",
     "text": [
      "0\n",
      "9\n"
     ]
    }
   ],
   "source": [
    "print(min([1, 2, 3, 4, 5, 6, 7, 8, 9, 0]))\n",
    "print(max([1, 2, 3, 4, 5, 6, 7, 8, 9, 0]))"
   ]
  },
  {
   "cell_type": "code",
   "execution_count": 6,
   "metadata": {},
   "outputs": [
    {
     "data": {
      "text/plain": [
       "['toyota', 'ford', 'fiat']"
      ]
     },
     "execution_count": 6,
     "metadata": {},
     "output_type": "execute_result"
    }
   ],
   "source": [
    "marcas_automoviles"
   ]
  },
  {
   "cell_type": "markdown",
   "metadata": {},
   "source": [
    "## __[List Comprehensions](https://realpython.com/list-comprehension-python/)__"
   ]
  },
  {
   "cell_type": "code",
   "execution_count": 7,
   "metadata": {},
   "outputs": [
    {
     "name": "stdout",
     "output_type": "stream",
     "text": [
      "[6]\n"
     ]
    }
   ],
   "source": [
    "marcas_mays = []\n",
    "# marcas_mays = list()\n",
    "for marca in marcas_automoviles:\n",
    "    if len(marca) > 4:\n",
    "       marcas_mays.append(len(marca.upper()))\n",
    "    \n",
    "print(marcas_mays)"
   ]
  },
  {
   "cell_type": "code",
   "execution_count": 31,
   "metadata": {},
   "outputs": [
    {
     "name": "stdout",
     "output_type": "stream",
     "text": [
      "[6]\n"
     ]
    }
   ],
   "source": [
    "#https://j2logo.com/list-comprehensions-en-python/\n",
    "#Se emplean para crear nuevas listas a partir de otros Iterables. \n",
    "#Retorna una lista. [ expresion for-loop expresion-filtro ]\n",
    "marcas_mays = [ len(marca.upper()) for marca in marcas_automoviles if len(marca) > 4 ]\n",
    "print(marcas_mays)"
   ]
  },
  {
   "cell_type": "code",
   "execution_count": 33,
   "metadata": {},
   "outputs": [
    {
     "name": "stdout",
     "output_type": "stream",
     "text": [
      "['TOYOTA']\n"
     ]
    }
   ],
   "source": [
    "marcas_mays = [marca.upper() for marca in marcas_automoviles if len(marca) > 4]\n",
    "print(marcas_mays)"
   ]
  },
  {
   "cell_type": "code",
   "execution_count": 34,
   "metadata": {},
   "outputs": [
    {
     "name": "stdout",
     "output_type": "stream",
     "text": [
      "['TOYOTA']\n"
     ]
    }
   ],
   "source": [
    "marcas_mays = []\n",
    "# marcas_mays = list()\n",
    "for marca in marcas_automoviles:\n",
    "    if len(marca) > 4:\n",
    "       marcas_mays.append(marca.upper())\n",
    "print(marcas_mays)"
   ]
  },
  {
   "cell_type": "code",
   "execution_count": 35,
   "metadata": {},
   "outputs": [
    {
     "name": "stdout",
     "output_type": "stream",
     "text": [
      "['TOYOTA', 'FIAT', 'FORD']\n"
     ]
    }
   ],
   "source": [
    "marcas_mays = [marca.upper() for marca in marcas_automoviles]\n",
    "print(marcas_mays)"
   ]
  },
  {
   "cell_type": "code",
   "execution_count": 36,
   "metadata": {},
   "outputs": [
    {
     "name": "stdout",
     "output_type": "stream",
     "text": [
      "['toyota', 'ford']\n",
      "['audi', 'toyota', 'ford']\n",
      "['ford', 'fiat', 'ferrari']\n",
      "['audi', 'toyota', 'ford', 'fiat', 'ferrari']\n"
     ]
    }
   ],
   "source": [
    "#Índices y secciones (slicing) de una lista\n",
    "#https://railsware.com/blog/python-for-machine-learning-indexing-and-slicing-for-lists-tuples-strings-and-other-sequential-types/\n",
    "marcas_automoviles = ['audi', 'toyota', 'ford', 'fiat', 'ferrari']\n",
    "print(marcas_automoviles[1:3])\n",
    "print(marcas_automoviles[:3])\n",
    "print(marcas_automoviles[2:])\n",
    "copia = marcas_automoviles[:]\n",
    "print(copia)"
   ]
  },
  {
   "cell_type": "markdown",
   "metadata": {},
   "source": [
    "## Tuplas"
   ]
  },
  {
   "cell_type": "code",
   "execution_count": 9,
   "metadata": {},
   "outputs": [
    {
     "name": "stdout",
     "output_type": "stream",
     "text": [
      "('la paz', 3600.0)\n",
      "la paz 3600.0\n",
      "la paz 3600.0\n",
      "('la paz', 3600.0)\n"
     ]
    }
   ],
   "source": [
    "#Colección inmutable de valores\n",
    "altitud_lapaz = ('la paz',3600.0)\n",
    "print(altitud_lapaz) # el parámetros es una tupla\n",
    "print(*altitud_lapaz) # aqui se pasan 2 parámetros: 'la paz',3600.0\n",
    "print('la paz', 3600.0)\n",
    "print(('la paz', 3600.0))"
   ]
  },
  {
   "cell_type": "code",
   "execution_count": 10,
   "metadata": {},
   "outputs": [
    {
     "name": "stdout",
     "output_type": "stream",
     "text": [
      "la paz\n",
      "3600.0\n"
     ]
    }
   ],
   "source": [
    "ciudad, altitud = altitud_lapaz\n",
    "print(ciudad)\n",
    "print(altitud)"
   ]
  },
  {
   "cell_type": "code",
   "execution_count": 11,
   "metadata": {},
   "outputs": [
    {
     "data": {
      "text/plain": [
       "('rojo', 'amarillo', 'verde')"
      ]
     },
     "execution_count": 11,
     "metadata": {},
     "output_type": "execute_result"
    }
   ],
   "source": [
    "colores_bandera = tuple(['rojo', 'amarillo', 'verde'])\n",
    "colores_bandera"
   ]
  },
  {
   "cell_type": "code",
   "execution_count": 12,
   "metadata": {},
   "outputs": [
    {
     "data": {
      "text/plain": [
       "True"
      ]
     },
     "execution_count": 12,
     "metadata": {},
     "output_type": "execute_result"
    }
   ],
   "source": [
    "\"rojo\" in colores_bandera"
   ]
  },
  {
   "cell_type": "code",
   "execution_count": 13,
   "metadata": {},
   "outputs": [
    {
     "data": {
      "text/plain": [
       "True"
      ]
     },
     "execution_count": 13,
     "metadata": {},
     "output_type": "execute_result"
    }
   ],
   "source": [
    "\"azul\" not in colores_bandera"
   ]
  },
  {
   "cell_type": "code",
   "execution_count": 14,
   "metadata": {},
   "outputs": [
    {
     "ename": "TypeError",
     "evalue": "'tuple' object does not support item assignment",
     "output_type": "error",
     "traceback": [
      "\u001b[1;31m---------------------------------------------------------------------------\u001b[0m",
      "\u001b[1;31mTypeError\u001b[0m                                 Traceback (most recent call last)",
      "Input \u001b[1;32mIn [14]\u001b[0m, in \u001b[0;36m<cell line: 2>\u001b[1;34m()\u001b[0m\n\u001b[0;32m      1\u001b[0m \u001b[38;5;66;03m#del colores_bandera[0]\u001b[39;00m\n\u001b[1;32m----> 2\u001b[0m colores_bandera[\u001b[38;5;241m0\u001b[39m] \u001b[38;5;241m=\u001b[39m \u001b[38;5;124m\"\u001b[39m\u001b[38;5;124mRojo\u001b[39m\u001b[38;5;124m\"\u001b[39m\n",
      "\u001b[1;31mTypeError\u001b[0m: 'tuple' object does not support item assignment"
     ]
    }
   ],
   "source": [
    "#del colores_bandera[0]\n",
    "colores_bandera[0] = \"Rojo\"\n",
    "#colores_bandera.pop()"
   ]
  },
  {
   "cell_type": "code",
   "execution_count": null,
   "metadata": {},
   "outputs": [],
   "source": []
  },
  {
   "cell_type": "markdown",
   "metadata": {},
   "source": [
    "## Range"
   ]
  },
  {
   "cell_type": "code",
   "execution_count": 23,
   "metadata": {},
   "outputs": [
    {
     "name": "stdout",
     "output_type": "stream",
     "text": [
      "range(1, 5)\n",
      "1 2 3 4\n",
      "1 2 3 4\n",
      "[1, 2, 3, 4]\n",
      "\t 1\n",
      "\t 2\n",
      "\t 3\n",
      "\t 4\n",
      "[2, 4, 6, 8, 10]\n"
     ]
    }
   ],
   "source": [
    "#https://docs.python.org/3/library/functions.html#func-range\n",
    "print(range(1,5))\n",
    "print(*range(1,5))\n",
    "print(1,2,3,4)\n",
    "print(list(range(1,5)))\n",
    "for numero in range(1,5):\n",
    "    print('\\t',numero)\n",
    "\n",
    "pares = list(range(2, 11, 2))\n",
    "print(pares)"
   ]
  },
  {
   "cell_type": "markdown",
   "metadata": {},
   "source": [
    "## El operador ```*``` con cadenas listas y tuplas"
   ]
  },
  {
   "cell_type": "code",
   "execution_count": 8,
   "metadata": {},
   "outputs": [
    {
     "data": {
      "text/plain": [
       "'HolaHola'"
      ]
     },
     "execution_count": 8,
     "metadata": {},
     "output_type": "execute_result"
    }
   ],
   "source": [
    "\"Hola\" * 2"
   ]
  },
  {
   "cell_type": "code",
   "execution_count": 9,
   "metadata": {},
   "outputs": [
    {
     "data": {
      "text/plain": [
       "['Hola', 'Mundo', 'Hola', 'Mundo']"
      ]
     },
     "execution_count": 9,
     "metadata": {},
     "output_type": "execute_result"
    }
   ],
   "source": [
    "[\"Hola\", \"Mundo\"] * 2"
   ]
  },
  {
   "cell_type": "code",
   "execution_count": 6,
   "metadata": {},
   "outputs": [
    {
     "data": {
      "text/plain": [
       "('Hola', 'Mundo', 'Hola', 'Mundo')"
      ]
     },
     "execution_count": 6,
     "metadata": {},
     "output_type": "execute_result"
    }
   ],
   "source": [
    "(\"Hola\", \"Mundo\") * 2"
   ]
  },
  {
   "cell_type": "markdown",
   "metadata": {},
   "source": [
    "## Referencias\n",
    "\n",
    "- [5 Powerful Python One-Liners You Should Know](https://levelup.gitconnected.com/5-powerful-python-one-liners-you-should-know-469b9c4737c7)\n",
    "- [Estructuras de datos](https://aprendepython.es/core/datastructures/)"
   ]
  },
  {
   "cell_type": "code",
   "execution_count": null,
   "metadata": {},
   "outputs": [],
   "source": []
  }
 ],
 "metadata": {
  "kernelspec": {
   "display_name": "Python 3 (ipykernel)",
   "language": "python",
   "name": "python3"
  },
  "language_info": {
   "codemirror_mode": {
    "name": "ipython",
    "version": 3
   },
   "file_extension": ".py",
   "mimetype": "text/x-python",
   "name": "python",
   "nbconvert_exporter": "python",
   "pygments_lexer": "ipython3",
   "version": "3.8.13"
  }
 },
 "nbformat": 4,
 "nbformat_minor": 2
}
