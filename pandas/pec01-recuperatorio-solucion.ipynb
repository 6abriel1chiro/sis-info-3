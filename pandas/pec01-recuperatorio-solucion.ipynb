{
 "cells": [
  {
   "cell_type": "code",
   "execution_count": 4,
   "id": "088cf064",
   "metadata": {},
   "outputs": [],
   "source": [
    "#Habilitar intellisense\"\n",
    "%config IPCompleter.greedy = True"
   ]
  },
  {
   "cell_type": "markdown",
   "id": "37a084ec",
   "metadata": {},
   "source": [
    "- Completar los nombres de los integrantes del grupo\n",
    "- Pueden agregar más celdas para elaborar las respuestas (crear funciones de apoyo, definir resultados intermedios, etc)\n",
    "- Pueden apoyarse en búsquedas en internet y/o los notebooks para resolver los ejercicios.\n",
    "- La expresividad y claridad del código serán tomadas en cuenta.\n",
    "- Al finalizar, deberán enviar el notebook a jrocabado.t@ucb.edu.bo (**un** correo por grupo)\n",
    "- **Cada 5 minutos de retraso en la entrega se penalizará con 2 puntos. Si se envían múltiples correos sólo se tomará en cuenta el último.** "
   ]
  },
  {
   "cell_type": "code",
   "execution_count": 5,
   "id": "ab070551",
   "metadata": {},
   "outputs": [],
   "source": [
    "# Integrantes del grupo\n"
   ]
  },
  {
   "cell_type": "markdown",
   "id": "7939fac1",
   "metadata": {},
   "source": [
    "**Obtener una lista de diccionarios con el nombre y la población de los países en los que se habla español**"
   ]
  },
  {
   "cell_type": "code",
   "execution_count": 6,
   "id": "d76c41d7",
   "metadata": {},
   "outputs": [
    {
     "data": {
      "text/plain": [
       "'ISO-8859-1'"
      ]
     },
     "execution_count": 6,
     "metadata": {},
     "output_type": "execute_result"
    }
   ],
   "source": [
    "import requests\n",
    "\n",
    "response = requests.get(\"http://localhost:8000/Pa%C3%ADses_de_Am%C3%A9rica_por_poblaci%C3%B3n.html\")\n",
    "response.encoding"
   ]
  },
  {
   "cell_type": "code",
   "execution_count": 7,
   "id": "4c59d7cd",
   "metadata": {},
   "outputs": [],
   "source": [
    "#requests no detectó el encoding adecuado. \n",
    "# <meta http-equiv=\"Content-Type\" content=\"text/html; charset=UTF-8\">\n",
    "response.encoding = 'utf-8'"
   ]
  },
  {
   "cell_type": "code",
   "execution_count": 8,
   "id": "22327427",
   "metadata": {},
   "outputs": [],
   "source": [
    "from bs4 import BeautifulSoup\n",
    "\n",
    "page = BeautifulSoup(response.text, \"html.parser\")\n",
    "coutry_table = page.body.find(name=\"table\", attrs={\"class\":\"wikitable\"})\n",
    "country_name_tds = coutry_table.find_all(name=\"td\", attrs={\"align\":\"left\"})\n",
    "country_trs = [country_name_td.find_parent() for country_name_td in country_name_tds]"
   ]
  },
  {
   "cell_type": "code",
   "execution_count": 9,
   "id": "33f66b8d",
   "metadata": {},
   "outputs": [],
   "source": [
    "def build_coutry_dic(country_tr):\n",
    "    def extract_name(country_tr):\n",
    "        links = country_tr.find_all(name=\"td\")[0].find_all(name=\"a\")\n",
    "        last_link_index = len(links) - 1\n",
    "        return links[last_link_index].text\n",
    "    \n",
    "    def extract_population(country_tr):\n",
    "        int_str = country_tr.find_all(name=\"td\")[1].text.replace('\\xa0', \"\").replace(' ', \"\").strip()\n",
    "        return int(int_str)\n",
    "    \n",
    "    def extract_language(country_tr):\n",
    "        return country_tr.find_all(name=\"td\")[2].text.strip()\n",
    "    \n",
    "    return {\n",
    "           \"country\" : extract_name(country_tr)\n",
    "          ,\"population\": extract_population(country_tr)\n",
    "          , \"language\": extract_language(country_tr)\n",
    "    }\n",
    "\n",
    "\n",
    "all_countries = [build_coutry_dic(country_tr) for country_tr in country_trs]"
   ]
  },
  {
   "cell_type": "code",
   "execution_count": 10,
   "id": "ac7c8e41",
   "metadata": {},
   "outputs": [
    {
     "data": {
      "text/plain": [
       "[{'country': 'México', 'population': 126014024, 'language': 'español'},\n",
       " {'country': 'Colombia', 'population': 50882891, 'language': 'español'},\n",
       " {'country': 'Argentina', 'population': 47327407, 'language': 'español'},\n",
       " {'country': 'Perú', 'population': 33149016, 'language': 'español'},\n",
       " {'country': 'Venezuela', 'population': 28435940, 'language': 'español'},\n",
       " {'country': 'Chile', 'population': 19116201, 'language': 'español'},\n",
       " {'country': 'Ecuador', 'population': 18058218, 'language': 'español'},\n",
       " {'country': 'Guatemala', 'population': 17915568, 'language': 'español'},\n",
       " {'country': 'Bolivia', 'population': 11673021, 'language': 'español'},\n",
       " {'country': 'Cuba', 'population': 11326616, 'language': 'español'},\n",
       " {'country': 'República Dominicana',\n",
       "  'population': 10847910,\n",
       "  'language': 'español'},\n",
       " {'country': 'Honduras', 'population': 9904607, 'language': 'español'},\n",
       " {'country': 'Paraguay', 'population': 7132538, 'language': 'español'},\n",
       " {'country': 'Nicaragua', 'population': 6624554, 'language': 'español'},\n",
       " {'country': 'El Salvador', 'population': 6486205, 'language': 'español'},\n",
       " {'country': 'Costa Rica', 'population': 5094118, 'language': 'español'},\n",
       " {'country': 'Panamá', 'population': 4314767, 'language': 'español'},\n",
       " {'country': 'Uruguay', 'population': 3473730, 'language': 'español'},\n",
       " {'country': 'Puerto Rico', 'population': 2860853, 'language': 'español'}]"
      ]
     },
     "execution_count": 10,
     "metadata": {},
     "output_type": "execute_result"
    }
   ],
   "source": [
    "spanish_speaking_countries = [country for country in all_countries if country[\"language\"] == 'español']\n",
    "spanish_speaking_countries"
   ]
  },
  {
   "cell_type": "markdown",
   "id": "fa1e97ab",
   "metadata": {},
   "source": [
    "**Mostrar los datos de los tres países con mayor probación de la lista anterior**"
   ]
  },
  {
   "cell_type": "code",
   "execution_count": 11,
   "id": "31141aa7",
   "metadata": {},
   "outputs": [
    {
     "data": {
      "text/plain": [
       "[{'country': 'México', 'population': 126014024, 'language': 'español'},\n",
       " {'country': 'Colombia', 'population': 50882891, 'language': 'español'},\n",
       " {'country': 'Argentina', 'population': 47327407, 'language': 'español'}]"
      ]
     },
     "execution_count": 11,
     "metadata": {},
     "output_type": "execute_result"
    }
   ],
   "source": [
    "sorted(spanish_speaking_countries, key=lambda country: country['population'], reverse=True)[:3]"
   ]
  },
  {
   "cell_type": "code",
   "execution_count": null,
   "id": "fc26d94b",
   "metadata": {},
   "outputs": [],
   "source": []
  }
 ],
 "metadata": {
  "kernelspec": {
   "display_name": "Python 3 (ipykernel)",
   "language": "python",
   "name": "python3"
  },
  "language_info": {
   "codemirror_mode": {
    "name": "ipython",
    "version": 3
   },
   "file_extension": ".py",
   "mimetype": "text/x-python",
   "name": "python",
   "nbconvert_exporter": "python",
   "pygments_lexer": "ipython3",
   "version": "3.8.13"
  }
 },
 "nbformat": 4,
 "nbformat_minor": 5
}
