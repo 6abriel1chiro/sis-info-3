{
 "cells": [
  {
   "cell_type": "markdown",
   "metadata": {},
   "source": [
    "## Estructuras de control\n",
    "- __[Control Flow Tools](https://docs.python.org/3/tutorial/controlflow.html)__"
   ]
  },
  {
   "cell_type": "code",
   "execution_count": 1,
   "metadata": {},
   "outputs": [],
   "source": [
    "#Habilitar intellisense\n",
    "%config IPCompleter.greedy = True"
   ]
  },
  {
   "cell_type": "code",
   "execution_count": 1,
   "metadata": {},
   "outputs": [
    {
     "name": "stdout",
     "output_type": "stream",
     "text": [
      "nissan\n",
      "fiat\n",
      "ford\n",
      "BMW\n",
      "marcas_automoviles tiene elementos\n"
     ]
    }
   ],
   "source": [
    "marcas_automoviles = [\"nissan\", \"fiat\", \"ford\", \"bmw\"]\n",
    "for marca in marcas_automoviles:\n",
    "    if marca == \"bmw\":\n",
    "        print(marca.upper())\n",
    "    else:\n",
    "        print(marca)\n",
    "if bool(marcas_automoviles): #puede ser llamar a bool()\n",
    "    print(\"marcas_automoviles tiene elementos\")"
   ]
  },
  {
   "cell_type": "code",
   "execution_count": 2,
   "metadata": {},
   "outputs": [
    {
     "name": "stdout",
     "output_type": "stream",
     "text": [
      "False\n",
      "True\n",
      "True\n",
      "True\n",
      "False\n",
      "False\n",
      "True\n",
      "True\n",
      "marcas_automoviles tiene elementos?  True\n",
      "marcas_automoviles tiene elementos?  ['nissan', 'fiat', 'ford', 'bmw']\n"
     ]
    }
   ],
   "source": [
    "#Operadores relacionales\n",
    "print(\"Juan\" == \"juan\")\n",
    "print(3 != 2)\n",
    "print(3 >= 2)\n",
    "print(3 > 2)\n",
    "print(3 <= 2)\n",
    "print(3 < 2)\n",
    "print(\"fiat\" in marcas_automoviles)\n",
    "print(\"subaru\" not in marcas_automoviles)\n",
    "print(\"marcas_automoviles tiene elementos? \", bool(marcas_automoviles) )\n",
    "print(\"marcas_automoviles tiene elementos? \", marcas_automoviles )"
   ]
  },
  {
   "cell_type": "code",
   "execution_count": 3,
   "metadata": {},
   "outputs": [
    {
     "name": "stdout",
     "output_type": "stream",
     "text": [
      "False\n",
      "True\n",
      "True\n"
     ]
    }
   ],
   "source": [
    "#Operadores logicos \n",
    "print(\"toyota\" in marcas_automoviles and 3 > 2)\n",
    "print(\"toyota\" in marcas_automoviles or  3 > 2)\n",
    "print(\"toyota\" not in marcas_automoviles)"
   ]
  },
  {
   "cell_type": "code",
   "execution_count": 2,
   "metadata": {},
   "outputs": [
    {
     "name": "stdout",
     "output_type": "stream",
     "text": [
      "Puede votar!\n",
      "Precio de la entrada es $40.\n"
     ]
    }
   ],
   "source": [
    "edad = 19\n",
    "if edad >= 18:\n",
    "    print(\"Puede votar!\")\n",
    "\n",
    "if edad < 4:\n",
    "    precio = 0\n",
    "elif edad < 18:\n",
    "    precio = 25\n",
    "elif edad < 65:\n",
    "    precio = 40\n",
    "else:\n",
    "    precio = 20\n",
    "print(f\"Precio de la entrada es ${precio}.\")"
   ]
  },
  {
   "cell_type": "code",
   "execution_count": 3,
   "metadata": {},
   "outputs": [
    {
     "name": "stdout",
     "output_type": "stream",
     "text": [
      "menor\n"
     ]
    }
   ],
   "source": [
    "#Expresiones condicionales/operador ternario\n",
    "edad = 12\n",
    "print('menor' if edad < 21 else 'adulto')\n",
    "\n",
    "# c#, JavaScript\n",
    "# edad < 21 ? 'menor': 'adulto'"
   ]
  },
  {
   "cell_type": "markdown",
   "metadata": {},
   "source": [
    "Es **muy** importante reducir el uso de estrucuturas condicionales para evitar reducir la complejidad ciclomatica!"
   ]
  },
  {
   "cell_type": "markdown",
   "metadata": {},
   "source": [
    "**Referencias**\n",
    "\n",
    "- [Complejidad ciclomática](https://es.wikipedia.org/wiki/Complejidad_ciclom%C3%A1tica)\n",
    "- [Radon - A Python tool that computes various metrics from the source code](https://pypi.org/project/radon/)\n",
    "- [Refactoring para simplificar logica condicional](https://refactoring.com/catalog/?filter=tags-simplify-conditional-logic)\n",
    "- [Conditional Statements in Python](https://realpython.com/python-conditional-statements/)\n"
   ]
  },
  {
   "cell_type": "code",
   "execution_count": null,
   "metadata": {},
   "outputs": [],
   "source": []
  }
 ],
 "metadata": {
  "kernelspec": {
   "display_name": "Python 3 (ipykernel)",
   "language": "python",
   "name": "python3"
  },
  "language_info": {
   "codemirror_mode": {
    "name": "ipython",
    "version": 3
   },
   "file_extension": ".py",
   "mimetype": "text/x-python",
   "name": "python",
   "nbconvert_exporter": "python",
   "pygments_lexer": "ipython3",
   "version": "3.8.13"
  }
 },
 "nbformat": 4,
 "nbformat_minor": 2
}
