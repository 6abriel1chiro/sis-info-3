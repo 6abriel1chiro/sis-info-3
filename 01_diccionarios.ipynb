{
 "cells": [
  {
   "cell_type": "code",
   "execution_count": 3,
   "metadata": {},
   "outputs": [],
   "source": [
    "#Habilitar intellisense\n",
    "%config IPCompleter.greedy = True"
   ]
  },
  {
   "cell_type": "code",
   "execution_count": 5,
   "metadata": {},
   "outputs": [
    {
     "data": {
      "text/html": [
       "<a href=\"https://python.org/dev/peps/pep-0008/\" target=\"_blank\">Style Guide for Python code</a>\n"
      ],
      "text/plain": [
       "<IPython.core.display.HTML object>"
      ]
     },
     "metadata": {},
     "output_type": "display_data"
    }
   ],
   "source": [
    "%%html\n",
    "<a href=\"https://python.org/dev/peps/pep-0008/\" target=\"_blank\">Style Guide for Python code</a>"
   ]
  },
  {
   "cell_type": "markdown",
   "metadata": {},
   "source": [
    "## Diccionario\n",
    "\n",
    "- Es una colección de pares clave:valor\n",
    "- Preserva el order creación\n",
    "- La clave debe ser un valor inmutable. Ej. números, cadenas y tuplas\n",
    "- El valor puede ser cualquier objeto incluyendo un diccionario, tupla o lista\n",
    "- {} = diccionario vacio\n",
    "- revisar: __[dictionary comprehensions](https://www.programiz.com/python-programming/dictionary-comprehension)__, otros metodos para __[crear y manipular diccionarios](https://docs.python.org/3/tutorial/datastructures.html#dictionaries )__"
   ]
  },
  {
   "cell_type": "code",
   "execution_count": 2,
   "metadata": {},
   "outputs": [
    {
     "name": "stdout",
     "output_type": "stream",
     "text": [
      "{'la paz': 'la paz', 'oruro': 'oruro', 'potosi': 'potosi', 'cochabamba': 'cochabamba', 'chuquisaca': 'sucre', 'tarija': 'tarija', 'pando': 'cobija', 'beni': 'trinidad'}\n",
      "sucre\n"
     ]
    },
    {
     "ename": "KeyError",
     "evalue": "'santa cruz'",
     "output_type": "error",
     "traceback": [
      "\u001b[1;31m---------------------------------------------------------------------------\u001b[0m",
      "\u001b[1;31mKeyError\u001b[0m                                  Traceback (most recent call last)",
      "Input \u001b[1;32mIn [2]\u001b[0m, in \u001b[0;36m<cell line: 13>\u001b[1;34m()\u001b[0m\n\u001b[0;32m     10\u001b[0m \u001b[38;5;28mprint\u001b[39m(capitales)\n\u001b[0;32m     12\u001b[0m \u001b[38;5;28mprint\u001b[39m(capitales[\u001b[38;5;124m\"\u001b[39m\u001b[38;5;124mchuquisaca\u001b[39m\u001b[38;5;124m\"\u001b[39m])\n\u001b[1;32m---> 13\u001b[0m \u001b[38;5;28mprint\u001b[39m(\u001b[43mcapitales\u001b[49m\u001b[43m[\u001b[49m\u001b[38;5;124;43m\"\u001b[39;49m\u001b[38;5;124;43msanta cruz\u001b[39;49m\u001b[38;5;124;43m\"\u001b[39;49m\u001b[43m]\u001b[49m)  \u001b[38;5;66;03m#error!\u001b[39;00m\n\u001b[0;32m     14\u001b[0m \u001b[38;5;28mprint\u001b[39m(capitales\u001b[38;5;241m.\u001b[39mget(\u001b[38;5;124m\"\u001b[39m\u001b[38;5;124msanta cruz\u001b[39m\u001b[38;5;124m\"\u001b[39m, \u001b[38;5;124m\"\u001b[39m\u001b[38;5;124mNo sabemos cual es la capital :(\u001b[39m\u001b[38;5;124m\"\u001b[39m))\n\u001b[0;32m     15\u001b[0m \u001b[38;5;28mprint\u001b[39m(capitales\u001b[38;5;241m.\u001b[39mget(\u001b[38;5;124m\"\u001b[39m\u001b[38;5;124msanta cruz\u001b[39m\u001b[38;5;124m\"\u001b[39m)) \u001b[38;5;66;03m#None >:(\u001b[39;00m\n",
      "\u001b[1;31mKeyError\u001b[0m: 'santa cruz'"
     ]
    }
   ],
   "source": [
    "capitales = {\"la paz\":\"la paz\", \n",
    "             \"oruro\":\"oruro\",\n",
    "             \"potosi\":\"potosi\",\n",
    "             \"cochabamba\":\"cochabamba\",\n",
    "             \"chuquisaca\":\"sucre\",\n",
    "             \"tarija\":\"tarija\",\n",
    "             \"pando\":\"cobija\",\n",
    "             \"beni\":\"trinidad\"\n",
    "            }\n",
    "print(capitales)\n",
    "\n",
    "print(capitales[\"chuquisaca\"])\n",
    "# print(capitales[\"santa cruz\"])  #error!\n",
    "print(capitales.get(\"santa cruz\", \"No sabemos cual es la capital :(\"))\n",
    "print(capitales.get(\"santa cruz\")) #None >:(\n",
    "print(\"santa cruz\" in capitales)\n",
    "\n",
    "capitales[\"santa cruz\"] = \"santa crus\" #Ooops! \n",
    "capitales[\"santa cruz\"] = \"santa cruz\"\n",
    "print(capitales)\n",
    "\n",
    "#del capitales[\"santa cruz\"]\n",
    "scz = capitales.pop(\"santa cruz\")\n",
    "print(capitales)\n",
    "print(scz)\n",
    "\n",
    "print(\"sucre\" in capitales)\n",
    "print(\"chuquisaca\" in capitales)"
   ]
  },
  {
   "cell_type": "code",
   "execution_count": 3,
   "metadata": {},
   "outputs": [
    {
     "name": "stdout",
     "output_type": "stream",
     "text": [
      "=======Por clave,valor=======\n",
      "\n",
      "Departamento: la paz\n",
      "Capital: la paz\n",
      "\n",
      "Departamento: oruro\n",
      "Capital: oruro\n",
      "\n",
      "Departamento: potosi\n",
      "Capital: potosi\n",
      "\n",
      "Departamento: cochabamba\n",
      "Capital: cochabamba\n",
      "\n",
      "Departamento: chuquisaca\n",
      "Capital: sucre\n",
      "\n",
      "Departamento: tarija\n",
      "Capital: tarija\n",
      "\n",
      "Departamento: pando\n",
      "Capital: cobija\n",
      "\n",
      "Departamento: beni\n",
      "Capital: trinidad\n",
      "=======Por clave (1) =======\n",
      "La Paz\n",
      "Oruro\n",
      "Potosi\n",
      "Cochabamba\n",
      "Chuquisaca\n",
      "Tarija\n",
      "Pando\n",
      "Beni\n",
      "=======Por clave (2) =======\n",
      "La Paz\n",
      "Oruro\n",
      "Potosi\n",
      "Cochabamba\n",
      "Chuquisaca\n",
      "Tarija\n",
      "Pando\n",
      "Beni\n",
      "=======Por valor =======\n",
      "La Paz\n",
      "Oruro\n",
      "Potosi\n",
      "Cochabamba\n",
      "Sucre\n",
      "Tarija\n",
      "Cobija\n",
      "Trinidad\n"
     ]
    }
   ],
   "source": [
    "#Recorridos/Looping\n",
    "print(\"=======Por clave,valor=======\") \n",
    "for clave,valor in capitales.items():\n",
    "    print(f\"\\nDepartamento: {clave}\")\n",
    "    print(f\"Capital: {valor}\")\n",
    "    \n",
    "print(\"=======Por clave (1) =======\")  \n",
    "for departamento in capitales.keys():\n",
    "    print(departamento.title())\n",
    "    \n",
    "print(\"=======Por clave (2) =======\")  \n",
    "for departamento in capitales:\n",
    "    print(departamento.title())\n",
    "    \n",
    "#Ejercicio: #Muestrar los nombres de las capitales con los departamentos en order alfabetico\n",
    "print(\"=======Por valor =======\")  \n",
    "for capital in capitales.values():\n",
    "    print(capital.title())"
   ]
  },
  {
   "cell_type": "code",
   "execution_count": 6,
   "metadata": {},
   "outputs": [
    {
     "data": {
      "text/plain": [
       "dict_items([('la paz', 'la paz'), ('oruro', 'oruro'), ('potosi', 'potosi'), ('cochabamba', 'cochabamba'), ('chuquisaca', 'sucre'), ('tarija', 'tarija'), ('pando', 'cobija'), ('beni', 'trinidad')])"
      ]
     },
     "execution_count": 6,
     "metadata": {},
     "output_type": "execute_result"
    }
   ],
   "source": [
    "capitales.items()"
   ]
  },
  {
   "cell_type": "markdown",
   "metadata": {},
   "source": [
    "## Conjunto\n",
    "\n",
    "En Python los conjuntos tienen la siguiente características:\n",
    "\n",
    "- A diferencia de las listas, no preservan el order en el que fueron agregados los elementos.\n",
    "- No se permite elementos duplicados\n"
   ]
  },
  {
   "cell_type": "code",
   "execution_count": 7,
   "metadata": {},
   "outputs": [
    {
     "data": {
      "text/plain": [
       "{-1, 1, 2, 3}"
      ]
     },
     "execution_count": 7,
     "metadata": {},
     "output_type": "execute_result"
    }
   ],
   "source": [
    "set([1, 3, -1 , 3, 2])"
   ]
  },
  {
   "cell_type": "code",
   "execution_count": 15,
   "metadata": {},
   "outputs": [
    {
     "data": {
      "text/plain": [
       "[1, 3, -1, 3, 2]"
      ]
     },
     "execution_count": 15,
     "metadata": {},
     "output_type": "execute_result"
    }
   ],
   "source": [
    "[1, 3, -1 , 3, 2]"
   ]
  },
  {
   "cell_type": "code",
   "execution_count": 16,
   "metadata": {},
   "outputs": [
    {
     "data": {
      "text/plain": [
       "1"
      ]
     },
     "execution_count": 16,
     "metadata": {},
     "output_type": "execute_result"
    }
   ],
   "source": [
    "[1, 3, -1 , 3, 2][0]"
   ]
  },
  {
   "cell_type": "code",
   "execution_count": 17,
   "metadata": {},
   "outputs": [
    {
     "name": "stderr",
     "output_type": "stream",
     "text": [
      "<>:1: SyntaxWarning: 'set' object is not subscriptable; perhaps you missed a comma?\n",
      "<>:1: SyntaxWarning: 'set' object is not subscriptable; perhaps you missed a comma?\n",
      "C:\\Users\\Marcelo\\AppData\\Local\\Temp/ipykernel_10376/1439062685.py:1: SyntaxWarning: 'set' object is not subscriptable; perhaps you missed a comma?\n",
      "  {1, 3, -1 , 3, 2}[0]\n"
     ]
    },
    {
     "ename": "TypeError",
     "evalue": "'set' object is not subscriptable",
     "output_type": "error",
     "traceback": [
      "\u001b[1;31m---------------------------------------------------------------------------\u001b[0m",
      "\u001b[1;31mTypeError\u001b[0m                                 Traceback (most recent call last)",
      "\u001b[1;32m~\\AppData\\Local\\Temp/ipykernel_10376/1439062685.py\u001b[0m in \u001b[0;36m<module>\u001b[1;34m\u001b[0m\n\u001b[1;32m----> 1\u001b[1;33m \u001b[1;33m{\u001b[0m\u001b[1;36m1\u001b[0m\u001b[1;33m,\u001b[0m \u001b[1;36m3\u001b[0m\u001b[1;33m,\u001b[0m \u001b[1;33m-\u001b[0m\u001b[1;36m1\u001b[0m \u001b[1;33m,\u001b[0m \u001b[1;36m3\u001b[0m\u001b[1;33m,\u001b[0m \u001b[1;36m2\u001b[0m\u001b[1;33m}\u001b[0m\u001b[1;33m[\u001b[0m\u001b[1;36m0\u001b[0m\u001b[1;33m]\u001b[0m\u001b[1;33m\u001b[0m\u001b[1;33m\u001b[0m\u001b[0m\n\u001b[0m",
      "\u001b[1;31mTypeError\u001b[0m: 'set' object is not subscriptable"
     ]
    }
   ],
   "source": [
    "{1, 3, -1 , 3, 2}[0]"
   ]
  },
  {
   "cell_type": "code",
   "execution_count": 8,
   "metadata": {},
   "outputs": [
    {
     "data": {
      "text/plain": [
       "{' ', 'a', 'b', 'c', 'd', 'r'}"
      ]
     },
     "execution_count": 8,
     "metadata": {},
     "output_type": "execute_result"
    }
   ],
   "source": [
    "#Ya mencionamos esto: las cadenas son iterables\n",
    "set('abra cadabra')"
   ]
  },
  {
   "cell_type": "markdown",
   "metadata": {},
   "source": [
    "### Union"
   ]
  },
  {
   "cell_type": "code",
   "execution_count": 10,
   "metadata": {},
   "outputs": [
    {
     "data": {
      "text/plain": [
       "{'cuatro', 'dos', 'tres', 'uno'}"
      ]
     },
     "execution_count": 10,
     "metadata": {},
     "output_type": "execute_result"
    }
   ],
   "source": [
    "{'uno', 'dos', 'tres'} | {'dos', 'tres', 'cuatro'} "
   ]
  },
  {
   "cell_type": "code",
   "execution_count": 11,
   "metadata": {},
   "outputs": [
    {
     "data": {
      "text/plain": [
       "{'cuatro', 'dos', 'tres', 'uno'}"
      ]
     },
     "execution_count": 11,
     "metadata": {},
     "output_type": "execute_result"
    }
   ],
   "source": [
    "{'uno', 'dos', 'tres'}.union(['dos', 'tres', 'cuatro', 'tres']) # Se pueden incluir más de un iterable"
   ]
  },
  {
   "cell_type": "markdown",
   "metadata": {},
   "source": [
    "### intersección"
   ]
  },
  {
   "cell_type": "code",
   "execution_count": 12,
   "metadata": {},
   "outputs": [
    {
     "data": {
      "text/plain": [
       "{'dos', 'tres'}"
      ]
     },
     "execution_count": 12,
     "metadata": {},
     "output_type": "execute_result"
    }
   ],
   "source": [
    "{'uno', 'dos', 'tres'}.intersection(['dos', 'tres', 'cuatro', 'tres'])"
   ]
  },
  {
   "cell_type": "code",
   "execution_count": 16,
   "metadata": {},
   "outputs": [
    {
     "data": {
      "text/plain": [
       "{'dos', 'tres'}"
      ]
     },
     "execution_count": 16,
     "metadata": {},
     "output_type": "execute_result"
    }
   ],
   "source": [
    "{'uno', 'dos', 'tres'} & {'dos', 'tres', 'cuatro', 'tres'}"
   ]
  },
  {
   "cell_type": "markdown",
   "metadata": {},
   "source": [
    "### Diferencia"
   ]
  },
  {
   "cell_type": "code",
   "execution_count": 13,
   "metadata": {},
   "outputs": [
    {
     "data": {
      "text/plain": [
       "{'uno'}"
      ]
     },
     "execution_count": 13,
     "metadata": {},
     "output_type": "execute_result"
    }
   ],
   "source": [
    "{'uno', 'dos', 'tres'}.difference(['dos', 'tres', 'cuatro', 'tres'])"
   ]
  },
  {
   "cell_type": "code",
   "execution_count": 18,
   "metadata": {},
   "outputs": [
    {
     "data": {
      "text/plain": [
       "{'uno'}"
      ]
     },
     "execution_count": 18,
     "metadata": {},
     "output_type": "execute_result"
    }
   ],
   "source": [
    "{'uno', 'dos', 'tres'} - {'dos', 'tres', 'cuatro', 'tres'}"
   ]
  },
  {
   "cell_type": "code",
   "execution_count": 19,
   "metadata": {},
   "outputs": [],
   "source": [
    "# Retorna los elementos que pertenecen a algunos de los conjuntos pero que no están en ambos"
   ]
  },
  {
   "cell_type": "code",
   "execution_count": 20,
   "metadata": {},
   "outputs": [
    {
     "data": {
      "text/plain": [
       "{'cuatro', 'uno'}"
      ]
     },
     "execution_count": 20,
     "metadata": {},
     "output_type": "execute_result"
    }
   ],
   "source": [
    "{'uno', 'dos', 'tres'}.symmetric_difference(['dos', 'tres', 'cuatro', 'tres'])"
   ]
  },
  {
   "cell_type": "code",
   "execution_count": 22,
   "metadata": {},
   "outputs": [
    {
     "data": {
      "text/plain": [
       "{'cuatro', 'uno'}"
      ]
     },
     "execution_count": 22,
     "metadata": {},
     "output_type": "execute_result"
    }
   ],
   "source": [
    "{'uno', 'dos', 'tres'} ^ {'dos', 'tres', 'cuatro', 'tres'}"
   ]
  },
  {
   "cell_type": "code",
   "execution_count": null,
   "metadata": {},
   "outputs": [],
   "source": [
    "#Hay más operaciones como la verificación de conjuntos disjuntos y subconjuntos"
   ]
  },
  {
   "cell_type": "markdown",
   "metadata": {},
   "source": [
    "### Modificación"
   ]
  },
  {
   "cell_type": "code",
   "execution_count": 24,
   "metadata": {},
   "outputs": [
    {
     "data": {
      "text/plain": [
       "{'cuatro', 'dos', 'tres', 'uno'}"
      ]
     },
     "execution_count": 24,
     "metadata": {},
     "output_type": "execute_result"
    }
   ],
   "source": [
    "a = {'uno', 'dos', 'tres'}\n",
    "a.update(['dos', 'tres', 'cuatro', 'tres'])\n",
    "a"
   ]
  },
  {
   "cell_type": "code",
   "execution_count": 25,
   "metadata": {},
   "outputs": [
    {
     "data": {
      "text/plain": [
       "{'dos', 'tres'}"
      ]
     },
     "execution_count": 25,
     "metadata": {},
     "output_type": "execute_result"
    }
   ],
   "source": [
    "a = {'uno', 'dos', 'tres'}\n",
    "a.intersection_update(['dos', 'tres', 'cuatro', 'tres'])\n",
    "a"
   ]
  },
  {
   "cell_type": "code",
   "execution_count": 27,
   "metadata": {},
   "outputs": [
    {
     "data": {
      "text/plain": [
       "{'uno'}"
      ]
     },
     "execution_count": 27,
     "metadata": {},
     "output_type": "execute_result"
    }
   ],
   "source": [
    "a = {'uno', 'dos', 'tres'}\n",
    "a.difference_update(['dos', 'tres', 'cuatro', 'tres'])\n",
    "a"
   ]
  },
  {
   "cell_type": "code",
   "execution_count": 28,
   "metadata": {},
   "outputs": [
    {
     "data": {
      "text/plain": [
       "{'cuatro', 'uno'}"
      ]
     },
     "execution_count": 28,
     "metadata": {},
     "output_type": "execute_result"
    }
   ],
   "source": [
    "a = {'uno', 'dos', 'tres'}\n",
    "a.symmetric_difference_update(['dos', 'tres', 'cuatro', 'tres'])\n",
    "a"
   ]
  },
  {
   "cell_type": "code",
   "execution_count": 14,
   "metadata": {},
   "outputs": [
    {
     "data": {
      "text/plain": [
       "{'dos', 'tres', 'uno'}"
      ]
     },
     "execution_count": 14,
     "metadata": {},
     "output_type": "execute_result"
    }
   ],
   "source": [
    "a = {'uno', 'dos', 'tres'}\n",
    "a.add('tres')\n",
    "a"
   ]
  },
  {
   "cell_type": "code",
   "execution_count": 33,
   "metadata": {},
   "outputs": [
    {
     "data": {
      "text/plain": [
       "{'dos', 'uno'}"
      ]
     },
     "execution_count": 33,
     "metadata": {},
     "output_type": "execute_result"
    }
   ],
   "source": [
    "a = {'uno', 'dos', 'tres'}\n",
    "a.remove('tres')\n",
    "a"
   ]
  },
  {
   "cell_type": "code",
   "execution_count": 36,
   "metadata": {},
   "outputs": [
    {
     "ename": "KeyError",
     "evalue": "'three'",
     "output_type": "error",
     "traceback": [
      "\u001b[1;31m---------------------------------------------------------------------------\u001b[0m",
      "\u001b[1;31mKeyError\u001b[0m                                  Traceback (most recent call last)",
      "\u001b[1;32m~\\AppData\\Local\\Temp/ipykernel_17920/3389052416.py\u001b[0m in \u001b[0;36m<module>\u001b[1;34m\u001b[0m\n\u001b[0;32m      1\u001b[0m \u001b[0ma\u001b[0m \u001b[1;33m=\u001b[0m \u001b[1;33m{\u001b[0m\u001b[1;34m'uno'\u001b[0m\u001b[1;33m,\u001b[0m \u001b[1;34m'dos'\u001b[0m\u001b[1;33m,\u001b[0m \u001b[1;34m'tres'\u001b[0m\u001b[1;33m}\u001b[0m\u001b[1;33m\u001b[0m\u001b[1;33m\u001b[0m\u001b[0m\n\u001b[1;32m----> 2\u001b[1;33m \u001b[0ma\u001b[0m\u001b[1;33m.\u001b[0m\u001b[0mremove\u001b[0m\u001b[1;33m(\u001b[0m\u001b[1;34m'three'\u001b[0m\u001b[1;33m)\u001b[0m\u001b[1;33m\u001b[0m\u001b[1;33m\u001b[0m\u001b[0m\n\u001b[0m\u001b[0;32m      3\u001b[0m \u001b[0ma\u001b[0m\u001b[1;33m\u001b[0m\u001b[1;33m\u001b[0m\u001b[0m\n",
      "\u001b[1;31mKeyError\u001b[0m: 'three'"
     ]
    }
   ],
   "source": [
    "a = {'uno', 'dos', 'tres'}\n",
    "a.remove('three')\n",
    "a"
   ]
  },
  {
   "cell_type": "code",
   "execution_count": 38,
   "metadata": {},
   "outputs": [
    {
     "data": {
      "text/plain": [
       "{'dos', 'uno'}"
      ]
     },
     "execution_count": 38,
     "metadata": {},
     "output_type": "execute_result"
    }
   ],
   "source": [
    "a = {'uno', 'dos', 'tres'}\n",
    "a.discard('tres')\n",
    "a"
   ]
  },
  {
   "cell_type": "code",
   "execution_count": 39,
   "metadata": {},
   "outputs": [
    {
     "data": {
      "text/plain": [
       "{'dos', 'tres', 'uno'}"
      ]
     },
     "execution_count": 39,
     "metadata": {},
     "output_type": "execute_result"
    }
   ],
   "source": [
    "a = {'uno', 'dos', 'tres'}\n",
    "a.discard('three')\n",
    "a"
   ]
  },
  {
   "cell_type": "code",
   "execution_count": 40,
   "metadata": {},
   "outputs": [
    {
     "data": {
      "text/plain": [
       "'tres'"
      ]
     },
     "execution_count": 40,
     "metadata": {},
     "output_type": "execute_result"
    }
   ],
   "source": [
    "# elimina y devuelve un elemento elegido arbitrariamente\n",
    "a = {'uno', 'dos', 'tres'}\n",
    "a.pop()"
   ]
  },
  {
   "cell_type": "code",
   "execution_count": 43,
   "metadata": {},
   "outputs": [
    {
     "data": {
      "text/plain": [
       "1"
      ]
     },
     "execution_count": 43,
     "metadata": {},
     "output_type": "execute_result"
    }
   ],
   "source": [
    "a = {1, 2, 3}\n",
    "a.pop()"
   ]
  },
  {
   "cell_type": "code",
   "execution_count": 46,
   "metadata": {},
   "outputs": [
    {
     "data": {
      "text/plain": [
       "set()"
      ]
     },
     "execution_count": 46,
     "metadata": {},
     "output_type": "execute_result"
    }
   ],
   "source": [
    "a = {1, 2, 3}\n",
    "a.clear()\n",
    "a"
   ]
  },
  {
   "cell_type": "markdown",
   "metadata": {},
   "source": [
    "## Referencias\n",
    "\n",
    "- [Python online editor, IDE, compiler, interpreter, and REPL](https://replit.com/languages/python3)\n",
    "- [Dictionaries in Python](https://realpython.com/python-dicts/)\n",
    "- [Sets in Python](https://realpython.com/python-sets/)"
   ]
  },
  {
   "cell_type": "markdown",
   "metadata": {},
   "source": [
    "## Ejercicios\n"
   ]
  },
  {
   "cell_type": "code",
   "execution_count": 48,
   "metadata": {},
   "outputs": [],
   "source": [
    "# Obtener la cantidad de números diferentes\n",
    "numbers = [1, 2, 3, 1, 2, 3, 4, 1]"
   ]
  },
  {
   "cell_type": "code",
   "execution_count": null,
   "metadata": {},
   "outputs": [],
   "source": []
  },
  {
   "cell_type": "markdown",
   "metadata": {},
   "source": [
    "En este ejercicio, se debe crear un diccionario llamado MENU, que represente los posibles platos que se puede pedir en un restaurante. Las claves serán cadenas, y los valores serán precios (es decir, números enteros).\n",
    "\n",
    "A continuación, debe escribir una función, ```restaurante```, que pide al usuario que introduzca un pedido:\n",
    "\n",
    "- Si el usuario ingresa el nombre de un plato en el menú, el programa imprime el precio y el total acumulado. A continuación, vuelve a pedir al usuario el nombre de otro plato.\n",
    "- Si el usuario ingresa el nombre de un plato que no está en el menú, el programa mustra un mensaje de error. A continuación, vuelve a pedir al usuario el nombre de otro plato.\n",
    "- Si el usuario ingresa una cadena vacía, el programa deja de preguntar e imprime el total de la cuenta."
   ]
  },
  {
   "cell_type": "code",
   "execution_count": null,
   "metadata": {},
   "outputs": [],
   "source": []
  }
 ],
 "metadata": {
  "kernelspec": {
   "display_name": "Python 3 (ipykernel)",
   "language": "python",
   "name": "python3"
  },
  "language_info": {
   "codemirror_mode": {
    "name": "ipython",
    "version": 3
   },
   "file_extension": ".py",
   "mimetype": "text/x-python",
   "name": "python",
   "nbconvert_exporter": "python",
   "pygments_lexer": "ipython3",
   "version": "3.8.13"
  }
 },
 "nbformat": 4,
 "nbformat_minor": 2
}
