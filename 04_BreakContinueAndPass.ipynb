{
 "cells": [
  {
   "cell_type": "markdown",
   "metadata": {},
   "source": [
    "## Estructuras de control\n",
    "- __[Control Flow Tools](https://docs.python.org/3/tutorial/controlflow.html)__"
   ]
  },
  {
   "cell_type": "code",
   "execution_count": 2,
   "metadata": {},
   "outputs": [],
   "source": [
    "#Habilitar intellisense\n",
    "%config IPCompleter.greedy = True"
   ]
  },
  {
   "cell_type": "code",
   "execution_count": 1,
   "metadata": {},
   "outputs": [],
   "source": [
    "classic_cars = [\"Pierce Arrow\", \"Oldsmobile\", \"Mustang\", \"Corvette\", \"Alfa Romeo Spider\"]"
   ]
  },
  {
   "cell_type": "code",
   "execution_count": 24,
   "metadata": {},
   "outputs": [
    {
     "name": "stdout",
     "output_type": "stream",
     "text": [
      "Pierce Arrow\n"
     ]
    }
   ],
   "source": [
    "for car in classic_cars:\n",
    "    print(car)\n",
    "    break"
   ]
  },
  {
   "cell_type": "code",
   "execution_count": 25,
   "metadata": {},
   "outputs": [
    {
     "data": {
      "text/plain": [
       "'Pierce Arrow'"
      ]
     },
     "execution_count": 25,
     "metadata": {},
     "output_type": "execute_result"
    }
   ],
   "source": [
    "car"
   ]
  },
  {
   "cell_type": "code",
   "execution_count": 28,
   "metadata": {},
   "outputs": [
    {
     "name": "stdout",
     "output_type": "stream",
     "text": [
      "Pierce Arrow\n",
      "Oldsmobile\n",
      "Mustang\n",
      "Corvette\n",
      "This is my favorite!  Corvette\n"
     ]
    }
   ],
   "source": [
    "for car in classic_cars:\n",
    "    print(car)  \n",
    "    if car == \"Corvette\":\n",
    "        print(\"This is my favorite! \", car)\n",
    "        break"
   ]
  },
  {
   "cell_type": "code",
   "execution_count": 5,
   "metadata": {},
   "outputs": [
    {
     "data": {
      "text/plain": [
       "'Corvette'"
      ]
     },
     "execution_count": 5,
     "metadata": {},
     "output_type": "execute_result"
    }
   ],
   "source": [
    "car"
   ]
  },
  {
   "cell_type": "code",
   "execution_count": 6,
   "metadata": {},
   "outputs": [
    {
     "name": "stdout",
     "output_type": "stream",
     "text": [
      "Still within the for loop: Pierce Arrow\n",
      "Still within the for loop: Oldsmobile\n",
      "Still within the for loop: Mustang\n",
      "This is my favorite!  Corvette\n"
     ]
    }
   ],
   "source": [
    "for car in classic_cars:\n",
    "    if car == \"Corvette\":\n",
    "        print(\"This is my favorite! \", car)\n",
    "        break\n",
    "\n",
    "    print(\"Still within the for loop:\", car)"
   ]
  },
  {
   "cell_type": "code",
   "execution_count": 7,
   "metadata": {},
   "outputs": [
    {
     "name": "stdout",
     "output_type": "stream",
     "text": [
      "What day is it? Monday\n",
      "Checking:  Sunday\n",
      "Checking:  Monday\n",
      "This is a valid day of the week!\n"
     ]
    }
   ],
   "source": [
    "## TODO: Run with \"Booday\" and \"Wednesday\"\n",
    "days = [\"Sunday\", \"Monday\", \"Tuesday\", \"Wednesday\", \"Thursday\", \"Friday\", \"Saturday\"]\n",
    "day_input = input(\"What day is it? \")\n",
    "\n",
    "for day in days:\n",
    "    print(\"Checking: \", day)\n",
    "    \n",
    "    if day == day_input:\n",
    "        print(\"This is a valid day of the week!\")\n",
    "        break\n",
    "        \n",
    "    else:\n",
    "        print(\"This is not a valid day of the week\")"
   ]
  },
  {
   "cell_type": "code",
   "execution_count": 8,
   "metadata": {},
   "outputs": [
    {
     "name": "stdout",
     "output_type": "stream",
     "text": [
      "Checking... 100\n",
      "Not a multiple of 3:-(\n",
      "Checking... 34\n",
      "Not a multiple of 3:-(\n",
      "Checking... 67\n",
      "Not a multiple of 3:-(\n",
      "Checking... 89\n",
      "Not a multiple of 3:-(\n",
      "Checking... 78\n",
      "Multiple of 3 - yipee!\n"
     ]
    }
   ],
   "source": [
    "numbers_list = [100, 34, 67, 89, 78, 21, 36]\n",
    "\n",
    "for num in numbers_list: \n",
    "    print(\"Checking...\", num)\n",
    "    \n",
    "    if num % 3 == 0:\n",
    "        print(\"Multiple of 3 - yipee!\")\n",
    "        break\n",
    "    \n",
    "    print(\"Not a multiple of 3:-(\")"
   ]
  },
  {
   "cell_type": "code",
   "execution_count": 29,
   "metadata": {},
   "outputs": [],
   "source": [
    "classic_cars = [\"Pierce Arrow\", \"Oldsmobile\", \"Mustang\", \"Corvette\", \"Alfa Romeo Spider\"]"
   ]
  },
  {
   "cell_type": "code",
   "execution_count": 30,
   "metadata": {},
   "outputs": [
    {
     "name": "stdout",
     "output_type": "stream",
     "text": [
      "Pierce Arrow\n",
      "Oldsmobile\n",
      "Corvette\n",
      "Alfa Romeo Spider\n"
     ]
    }
   ],
   "source": [
    "for car in classic_cars:\n",
    "    if car == \"Mustang\":\n",
    "        continue\n",
    "        \n",
    "    print(car)"
   ]
  },
  {
   "cell_type": "code",
   "execution_count": 1,
   "metadata": {},
   "outputs": [
    {
     "name": "stdout",
     "output_type": "stream",
     "text": [
      "1\n",
      "3\n",
      "5\n",
      "7\n",
      "9\n"
     ]
    }
   ],
   "source": [
    "for i in range(10):   \n",
    "    if  i % 2 == 0:\n",
    "        continue\n",
    "    \n",
    "    print(i)"
   ]
  },
  {
   "cell_type": "code",
   "execution_count": 32,
   "metadata": {},
   "outputs": [
    {
     "name": "stdout",
     "output_type": "stream",
     "text": [
      "10\n",
      "11\n",
      "12\n",
      "17\n",
      "18\n",
      "19\n",
      "20\n"
     ]
    }
   ],
   "source": [
    "for i in range(10, 21):\n",
    "    if i >= 13 and i <= 16:\n",
    "        continue\n",
    "    else:\n",
    "        print(i)"
   ]
  },
  {
   "cell_type": "code",
   "execution_count": 26,
   "metadata": {},
   "outputs": [
    {
     "name": "stdout",
     "output_type": "stream",
     "text": [
      "10\n",
      "11\n",
      "12\n"
     ]
    }
   ],
   "source": [
    "for i in range(10, 21):\n",
    "    if i >= 13 and i <= 16:\n",
    "        break\n",
    "    else:\n",
    "        print(i)"
   ]
  },
  {
   "cell_type": "code",
   "execution_count": 33,
   "metadata": {},
   "outputs": [],
   "source": [
    "for i in range(10, 21):\n",
    "    pass"
   ]
  },
  {
   "cell_type": "code",
   "execution_count": 14,
   "metadata": {},
   "outputs": [],
   "source": [
    "for i in range(10, 21):\n",
    "    break\n",
    "    print(i)"
   ]
  },
  {
   "cell_type": "code",
   "execution_count": 16,
   "metadata": {},
   "outputs": [],
   "source": [
    "for i in range(10, 21):\n",
    "    continue\n",
    "    print(i)"
   ]
  },
  {
   "cell_type": "code",
   "execution_count": 35,
   "metadata": {},
   "outputs": [
    {
     "name": "stdout",
     "output_type": "stream",
     "text": [
      "10\n",
      "11\n",
      "12\n",
      "13\n",
      "14\n",
      "15\n",
      "16\n",
      "17\n",
      "18\n",
      "19\n",
      "20\n"
     ]
    }
   ],
   "source": [
    "for i in range(10, 21):\n",
    "    pass\n",
    "    print(i)"
   ]
  },
  {
   "cell_type": "code",
   "execution_count": 18,
   "metadata": {},
   "outputs": [
    {
     "name": "stdout",
     "output_type": "stream",
     "text": [
      "10\n",
      "11\n",
      "12\n",
      "17\n",
      "18\n",
      "19\n",
      "20\n"
     ]
    }
   ],
   "source": [
    "for i in range(10, 21):\n",
    "    if i >= 13 and i <= 16:\n",
    "        pass\n",
    "    else:\n",
    "        print(i)"
   ]
  },
  {
   "cell_type": "code",
   "execution_count": 19,
   "metadata": {},
   "outputs": [],
   "source": [
    "colors = [\"Red\", \"Green\", \"Blue\", \"Yellow\", \"Purple\", \"Orange\"]"
   ]
  },
  {
   "cell_type": "code",
   "execution_count": 20,
   "metadata": {},
   "outputs": [
    {
     "name": "stdout",
     "output_type": "stream",
     "text": [
      "Red\n",
      "Green\n",
      "Blue\n",
      "Do nothing\n",
      "Yellow\n",
      "About to break!\n"
     ]
    }
   ],
   "source": [
    "for color in colors:\n",
    "    print(color)\n",
    "\n",
    "    if color == \"Blue\":\n",
    "        print(\"Do nothing\")\n",
    "        pass\n",
    " \n",
    "    if color == \"Red\":\n",
    "        continue\n",
    "        \n",
    "    if color == \"Yellow\":\n",
    "        print(\"About to break!\")\n",
    "        break"
   ]
  },
  {
   "cell_type": "markdown",
   "metadata": {},
   "source": [
    "**Referencias**\n",
    "\n",
    "- [Python \"for\" Loops](https://realpython.com/python-for-loop/)"
   ]
  },
  {
   "cell_type": "code",
   "execution_count": null,
   "metadata": {},
   "outputs": [],
   "source": [
    "# for (i = 1; i <= 10; i++)\n",
    "#     <loop body>\n",
    "    \n",
    "# i = 1\n",
    "# while i <= 10:\n",
    "#     <loop body>\n",
    "#     i++"
   ]
  }
 ],
 "metadata": {
  "kernelspec": {
   "display_name": "Python 3 (ipykernel)",
   "language": "python",
   "name": "python3"
  },
  "language_info": {
   "codemirror_mode": {
    "name": "ipython",
    "version": 3
   },
   "file_extension": ".py",
   "mimetype": "text/x-python",
   "name": "python",
   "nbconvert_exporter": "python",
   "pygments_lexer": "ipython3",
   "version": "3.8.12"
  }
 },
 "nbformat": 4,
 "nbformat_minor": 2
}
